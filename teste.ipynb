{
 "cells": [
  {
   "cell_type": "code",
   "execution_count": 1,
   "metadata": {},
   "outputs": [
    {
     "name": "stdout",
     "output_type": "stream",
     "text": [
      "olá mundo\n"
     ]
    }
   ],
   "source": [
    "# codigo que impreme na tela o texto \"olá mundo\"\n",
    "print(\"olá mundo\") # execuçâo da instruçao print"
   ]
  },
  {
   "cell_type": "markdown",
   "metadata": {},
   "source": [
    "# titulo\n",
    "## titulo 2\n",
    "### titulo 3\n",
    " paragrafo normal\n",
    "\n",
    " paragrafo  **normal 2**\n",
    "\n",
    " 1. teste\n",
    " 1. teste\n",
    " 1. teste\n",
    "\n",
    "- teste\n",
    "- teste\n",
    " - teste\n",
    "      - teste\n",
    " - teste     \n",
    "   \n",
    "# lista de tarefa \n",
    " - [x]tarefa 1\n",
    " - [ ]tarefa 2\n",
    " - [ ]tarefa 3\n",
    "\n",
    " # links\n",
    "  [clique aqui](https://www.google.com/url?sa=i&url=https%3A%2F%2Fwww.terra.com.br%2Fesportes%2Flance%2Fnoite-dele-calleri-se-aproxima-de-recorde-no-sao-paulo-apos-gols%2C9f2893b2f8c170d9448c4c7606f93f6dagfq1y0k.html&psig=AOvVaw1ds-RaH4O-oGEpU3EvDVrR&ust=1696526225580000&source=images&cd=vfe&opi=89978449&ved=0CBEQjRxqFwoTCJibuNrz3IEDFQAAAAAdAAAAABAS)\n",
    "  \n",
    "   # imagem\n",
    "\n",
    "![calleri](![Alt text](image-1.png))\n",
    "\n",
    "# imagem\n",
    "![toca no callerr](![Alt text](image-3.png))"
   ]
  }
 ],
 "metadata": {
  "kernelspec": {
   "display_name": "Python 3",
   "language": "python",
   "name": "python3"
  },
  "language_info": {
   "codemirror_mode": {
    "name": "ipython",
    "version": 3
   },
   "file_extension": ".py",
   "mimetype": "text/x-python",
   "name": "python",
   "nbconvert_exporter": "python",
   "pygments_lexer": "ipython3",
   "version": "3.11.4"
  },
  "orig_nbformat": 4
 },
 "nbformat": 4,
 "nbformat_minor": 2
}
