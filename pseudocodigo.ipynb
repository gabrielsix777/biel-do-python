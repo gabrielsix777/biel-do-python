{
 "cells": [
  {
   "cell_type": "markdown",
   "metadata": {},
   "source": [
    "# Pseudocodigo 1 - calcular área \n",
    "pseudocodigo para caulculo da área do pararelograma"
   ]
  },
  {
   "cell_type": "code",
   "execution_count": null,
   "metadata": {},
   "outputs": [],
   "source": [
    " # solicitar ao operador o valor da Base\n",
    " # solicitar ao operador o valor da altura\n",
    " # solicitar a area multiplicando a base pela altura\n",
    " # imprimir o resultado da ,ultiplicaçâo \n"
   ]
  },
  {
   "cell_type": "markdown",
   "metadata": {},
   "source": [
    "# Pseudocodigo 2 - calculadora simples\n",
    "pseudocodigo para uma calculadora simples"
   ]
  },
  {
   "cell_type": "code",
   "execution_count": null,
   "metadata": {},
   "outputs": [],
   "source": [
    "# solicitar ao operario qual o primeiro número\n",
    "# solicitar ao aperario o segundo número\n",
    "# selecionar qual aoperaçao ierei realizar (+,-,*,/)\n",
    "# se '+' resultado + número 1 + número 2\n",
    "# se '-' resultado + número 1 - número 2\n",
    "# se '*' resultado + número 1 * número 2\n",
    "# se '/' resultado + número 1 ? número 2\n",
    "# imprimir o valor do resultado na saida"
   ]
  },
  {
   "cell_type": "code",
   "execution_count": null,
   "metadata": {},
   "outputs": [],
   "source": []
  }
 ],
 "metadata": {
  "language_info": {
   "name": "python"
  },
  "orig_nbformat": 4
 },
 "nbformat": 4,
 "nbformat_minor": 2
}
